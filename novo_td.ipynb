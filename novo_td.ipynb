{
 "cells": [
  {
   "cell_type": "code",
   "execution_count": 1,
   "id": "b36608e8",
   "metadata": {},
   "outputs": [],
   "source": [
    "import pandas as pd\n",
    "from selenium import webdriver\n",
    "from selenium.webdriver.chrome.options import Options\n",
    "from selenium.webdriver.chrome.service import Service\n",
    "import os\n"
   ]
  },
  {
   "cell_type": "code",
   "execution_count": 2,
   "id": "dc3f3c6e",
   "metadata": {},
   "outputs": [],
   "source": [
    "chrome_options = Options()\n",
    "chrome_options.add_experimental_option(\"prefs\", {\n",
    "    \"download.default_directory\": \"/home/yair/GHub/TD/data/\",\n",
    "    \"download.prompt_for_download\": False,\n",
    "    \"download.directory_upgrade\": True,\n",
    "    \"safebrowsing.enabled\": True,\n",
    "    \"safebrowsing.disable_download_protection\": True,\n",
    "    \"profile.default_content_settings.popups\": 0,\n",
    "    \"profile.default_content_setting_values.automatic_downloads\": 1\n",
    "})\n",
    "chrome_options.add_argument('--headless')  # modo sem GUI\n"
   ]
  },
  {
   "cell_type": "code",
   "execution_count": 3,
   "id": "553dc880",
   "metadata": {},
   "outputs": [],
   "source": [
    "try:\n",
    "    os.remove(\"/home/yair/GHub/TD/data/rendimento-resgatar.csv\")\n",
    "    os.remove(\"/home/yair/GHub/TD/data/rendimento-investir.csv\")    \n",
    "except :   \n",
    "    pass"
   ]
  },
  {
   "cell_type": "code",
   "execution_count": 4,
   "id": "49e1f0e6",
   "metadata": {},
   "outputs": [],
   "source": [
    "resgate = \"https://www.tesourodireto.com.br/documents/d/guest/rendimento-resgatar-csv?download=true\"\n",
    "investe = \"https://www.tesourodireto.com.br/documents/d/guest/rendimento-investir-csv?download=true\""
   ]
  },
  {
   "cell_type": "code",
   "execution_count": 5,
   "id": "3efb2b49",
   "metadata": {},
   "outputs": [],
   "source": [
    "driver = webdriver.Chrome(options=chrome_options)\n",
    "driver.get(resgate)\n",
    "driver.get(investe)\n",
    "driver.close()"
   ]
  }
 ],
 "metadata": {
  "kernelspec": {
   "display_name": "pythorix",
   "language": "python",
   "name": "python3"
  },
  "language_info": {
   "codemirror_mode": {
    "name": "ipython",
    "version": 3
   },
   "file_extension": ".py",
   "mimetype": "text/x-python",
   "name": "python",
   "nbconvert_exporter": "python",
   "pygments_lexer": "ipython3",
   "version": "3.11.2"
  }
 },
 "nbformat": 4,
 "nbformat_minor": 5
}
